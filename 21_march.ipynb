{
 "cells": [
  {
   "cell_type": "markdown",
   "id": "8f87ac9f-053e-47e4-903a-e3ce00c1125b",
   "metadata": {},
   "source": [
    "Q1. What is the difference between Ordinal Encoding and Label Encoding? Provide an example of when you\n",
    "might choose one over the other."
   ]
  },
  {
   "cell_type": "markdown",
   "id": "0e1ff384-6145-4cc6-a430-0d51c5e8b104",
   "metadata": {},
   "source": [
    "Ordinal Encoding is suitable when categorical variables have an inherent order or ranking.\n",
    " You use ordinal encoding to preserve order of categorical data i.e. cold, warm, hot; low, medium, high. \n",
    "\n",
    "Label Encoding is appropriate when encoding target variables, especially for categorical variables with no inherent order.You use label encoding or one hot for categorical data, where there's no order in data i.e. dog, cat, whale."
   ]
  },
  {
   "cell_type": "markdown",
   "id": "9ac07ce8-5544-495b-8066-5039256a995f",
   "metadata": {},
   "source": [
    "Q2. Explain how Target Guided Ordinal Encoding works and provide an example of when you might use it in\n",
    "a machine learning project."
   ]
  },
  {
   "cell_type": "markdown",
   "id": "46b25d29-7e92-4bad-be3c-45170252c306",
   "metadata": {},
   "source": [
    "The encoding process involves sorting the categories based on the mean of the target variable for each category and then assigning a numerical value to each category based on its rank. This encoding technique can be used in various machine learning tasks, such as regression, classification, and ranking problems."
   ]
  },
  {
   "cell_type": "markdown",
   "id": "b7c2ff38-2bd9-4676-b5c6-6cff7e10b3ea",
   "metadata": {},
   "source": [
    "Q3. Define covariance and explain why it is important in statistical analysis. How is covariance calculated?"
   ]
  },
  {
   "cell_type": "markdown",
   "id": "b5ed4cf7-46e4-412e-b822-bb596b91c194",
   "metadata": {},
   "source": [
    "Covariance is a measure of the relationship between two random variables and to what extent, they change together. Or we can say, in other words, it defines the changes between the two variables, such that change in one variable is equal to change in another variable. This is the property of a function of maintaining its form when the variables are linearly transformed. Covariance is measured in units, which are calculated by multiplying the units of the two variables.\n",
    "\n",
    "\n",
    "Following steps for calculated covariance:-\n",
    "\n",
    "Calculate the average value for each variable. ...\n",
    "Find the difference between each value and the mean for both variables. ...\n",
    "Multiply the values for the two variables. ...\n",
    "Add the values together."
   ]
  },
  {
   "cell_type": "markdown",
   "id": "a40cab71-bc3d-4a67-a0af-67bb60d6e4d9",
   "metadata": {},
   "source": [
    "Q4. For a dataset with the following categorical variables: Color (red, green, blue), Size (small, medium,\n",
    "large), and Material (wood, metal, plastic), perform label encoding using Python's scikit-learn library.\n",
    "Show your code and explain the output."
   ]
  },
  {
   "cell_type": "code",
   "execution_count": null,
   "id": "7595c3c0-3fb0-4b9e-87af-edaf71913f28",
   "metadata": {},
   "outputs": [],
   "source": [
    "# Import label encoder \n",
    "from sklearn import preprocessing\n",
    "# label_encoder object knows how to understand word labels. \n",
    "label_encoder = preprocessing.LabelEncoder()\n",
    "# Encode labels in column 'Country'. \n",
    "data['Country']= label_encoder.fit_transform(data['Country']) \n",
    "print(data.head())"
   ]
  },
  {
   "cell_type": "markdown",
   "id": "b9c3359d-b8d0-4267-a205-48eea85a6495",
   "metadata": {},
   "source": [
    "Q5. Calculate the covariance matrix for the following variables in a dataset: Age, Income, and Education\n",
    "level. Interpret the results."
   ]
  },
  {
   "cell_type": "code",
   "execution_count": 4,
   "id": "1f8fbe39-9139-4de9-a59b-81dfbe044d72",
   "metadata": {},
   "outputs": [
    {
     "name": "stdout",
     "output_type": "stream",
     "text": [
      "     Name Qualification\n",
      "0     Jai           Msc\n",
      "1  Princi            MA\n",
      "2  Gaurav           MCA\n",
      "3    Anuj           Phd\n"
     ]
    }
   ],
   "source": [
    "#take a example of the dataset sample:-\n",
    "\n",
    "# Import pandas package\n",
    "import pandas as pd\n",
    " \n",
    "# Define a dictionary containing employee data\n",
    "data = {'Name':['Jai', 'Princi', 'Gaurav', 'Anuj'],\n",
    "        'Age':[27, 24, 22, 32],\n",
    "        'Address':['Delhi', 'Kanpur', 'Allahabad', 'Kannauj'],\n",
    "        'Qualification':['Msc', 'MA', 'MCA', 'Phd']}\n",
    " \n",
    "# Convert the dictionary into DataFrame \n",
    "df = pd.DataFrame(data)\n",
    " \n",
    "# select two columns\n",
    "print(df[['Name', 'Qualification']])\n"
   ]
  },
  {
   "cell_type": "markdown",
   "id": "41ce38c1-70df-4ae8-8edd-5ff55ee09836",
   "metadata": {},
   "source": [
    "Q6. You are working on a machine learning project with a dataset containing several categorical\n",
    "variables, including \"Gender\" (Male/Female), \"Education Level\" (High School/Bachelor's/Master's/PhD),\n",
    "and \"Employment Status\" (Unemployed/Part-Time/Full-Time). Which encoding method would you use for\n",
    "each variable, and why?"
   ]
  },
  {
   "cell_type": "code",
   "execution_count": 3,
   "id": "e959f58b-7e0a-4eed-825e-141347600961",
   "metadata": {},
   "outputs": [
    {
     "name": "stdout",
     "output_type": "stream",
     "text": [
      "     Name    Education Level\n",
      "0    Male        High School\n",
      "1  female  Bachelor\"s/Master\n"
     ]
    }
   ],
   "source": [
    "import pandas as pd \n",
    "  \n",
    "# Create a dictionary for the dataframe \n",
    "dict = {'Name' : ['Male', 'female'], \n",
    "        'Education Level':['High School', 'Bachelor\"s/Master'], \n",
    "        } \n",
    "  \n",
    "# Converting Dictionary to Pandas Dataframe \n",
    "df = pd.DataFrame(dict) \n",
    "  \n",
    "# Print Dataframe \n",
    "print(df) "
   ]
  },
  {
   "cell_type": "markdown",
   "id": "6e84a9a7-0655-404d-8f8e-965f5a874189",
   "metadata": {},
   "source": [
    "Q7. You are analyzing a dataset with two continuous variables, \"Temperature\" and \"Humidity\", and two\n",
    "categorical variables, \"Weather Condition\" (Sunny/Cloudy/Rainy) and \"Wind Direction\" (North/South/\n",
    "East/West). Calculate the covariance between each pair of variables and interpret the results."
   ]
  },
  {
   "cell_type": "raw",
   "id": "2f9fea6b-f397-4052-80fe-696542f608b3",
   "metadata": {},
   "source": [
    "This is the dataset of two continuous variables of weather and their temprature and humidity which we have to calculate by the categorical variavbles and the intrept the soln of the weather so we have to make the data set of these two country are these following:-\n",
    "save in csv file.\n"
   ]
  }
 ],
 "metadata": {
  "kernelspec": {
   "display_name": "Python 3 (ipykernel)",
   "language": "python",
   "name": "python3"
  },
  "language_info": {
   "codemirror_mode": {
    "name": "ipython",
    "version": 3
   },
   "file_extension": ".py",
   "mimetype": "text/x-python",
   "name": "python",
   "nbconvert_exporter": "python",
   "pygments_lexer": "ipython3",
   "version": "3.10.8"
  }
 },
 "nbformat": 4,
 "nbformat_minor": 5
}
